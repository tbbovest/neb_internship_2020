{
 "cells": [
  {
   "cell_type": "markdown",
   "id": "cf98fec9",
   "metadata": {},
   "source": [
    "# Manuelidis Transmissible Spongiform Encephalopathies Collaboration\n",
    "### Research Bioinformatics Group Dec 2020"
   ]
  },
  {
   "cell_type": "markdown",
   "id": "4847d9b8",
   "metadata": {},
   "source": [
    "All RNAseq data was provided by the Manuelidis Lab at Yale University.\n",
    "\n",
    "Previous Research and Background: https://medicine.yale.edu/profile/laura-manuelidis/\n",
    "\n",
    "##### Main Objective: Identify vector of TSE infection by targeting foreign nucleic acids.\n",
    "\n",
    "##### Sub Objective: Identify differentially expressed genes in infected samples."
   ]
  },
  {
   "cell_type": "markdown",
   "id": "38b305ff",
   "metadata": {},
   "source": [
    "### Differential Expression Analysis Plan"
   ]
  },
  {
   "cell_type": "markdown",
   "id": "7a215559",
   "metadata": {},
   "source": [
    "1. Trimming\n",
    "2. Mapping\n",
    "3. Gene Count Matrix\n",
    "4. Differential Expression Analysis\n",
    "5. David Enrichment Analysis"
   ]
  },
  {
   "cell_type": "markdown",
   "id": "a9c3725b",
   "metadata": {},
   "source": [
    "#### Trimming with Trimmomatic"
   ]
  },
  {
   "cell_type": "code",
   "execution_count": null,
   "id": "9831fb28",
   "metadata": {},
   "outputs": [],
   "source": [
    "java -jar trimmomatic-0.39.jar PE input_forward.fq.gz input_reverse.fq.gz output_forward_paired.fq.gz output_forward_unpaired.fq.gz output_reverse_paired.fq.gz output_reverse_unpaired.fq.gz SLIDINGWINDOW:4:20"
   ]
  },
  {
   "cell_type": "markdown",
   "id": "7b7326ec",
   "metadata": {},
   "source": [
    "#### Mapping with STAR"
   ]
  },
  {
   "cell_type": "code",
   "execution_count": null,
   "id": "47828e7f",
   "metadata": {},
   "outputs": [],
   "source": [
    "STAR --genomeDir /mnt/home/sunz/STAR_index/mm9_STAR_index \n",
    "--readFilesIn trimmed_forward_read.fastq trimmed_reverse_read.fastq\n",
    "--runThreadN 1 --outFileNamePrefix X_sample."
   ]
  },
  {
   "cell_type": "markdown",
   "id": "1c83298f",
   "metadata": {},
   "source": [
    "#### Gene Count Matrix using FeatureCounts"
   ]
  },
  {
   "cell_type": "code",
   "execution_count": null,
   "id": "ae461c1e",
   "metadata": {},
   "outputs": [],
   "source": [
    "featureCounts -p -a Mus_musculus.GRCm38.101.gtf.gz -o counts.txt 1_samples.Aligned.out.sam 2_samples.Aligned.out.sam 3_samples.Aligned.out.sam 4_samples.Aligned.out.sam 5_samples.Aligned.out.sam 6_samples.Aligned.out.sam"
   ]
  },
  {
   "cell_type": "markdown",
   "id": "57ce3a8e",
   "metadata": {},
   "source": [
    "#### Differential Expression Analysis"
   ]
  },
  {
   "cell_type": "code",
   "execution_count": null,
   "id": "cb9fa364",
   "metadata": {},
   "outputs": [],
   "source": [
    "#Create deseq object \n",
    "dds <- DESeqDataSetFromMatrix(countData = gene_count, colData = colData, design = ~ treatment)\n",
    "\n",
    "\n",
    "#Remove rows with low gene counts\n",
    "nrow(dds)\n",
    "dds <- dds[rowSums(counts(dds)) > 1,]\n",
    "nrow(dds)\n",
    "\n",
    "vsd <- vst(dds, blind = FALSE)\n",
    "\n",
    "sample_dists <- dist(t(assay(vsd)))\n",
    "\n",
    "\n",
    "#Run DEseq \n",
    "dds <- DESeq(dds)\n",
    "\n",
    "resultsNames(dds)\n",
    "res <- results(dds, name = \"treatment_non.infected_vs_infected\")\n",
    "res"
   ]
  },
  {
   "cell_type": "markdown",
   "id": "c62f79b8",
   "metadata": {},
   "source": [
    "#### Extract Significant Genes"
   ]
  },
  {
   "cell_type": "code",
   "execution_count": null,
   "id": "5385279b",
   "metadata": {},
   "outputs": [],
   "source": [
    "#Generate lists of downregulated and upregulated genes in infected samples\n",
    "downregsub <- res[which(res$log2FoldChange > 0 & res$padj < .05),]\n",
    "write.table(downregsub, \"DownRegulated.txt\")\n",
    "\n",
    "upregsub <- res[which(res$log2FoldChange < 0 & res$padj < .05),]\n",
    "write.table(upregsub, \"UpRegulated.txt\")"
   ]
  },
  {
   "cell_type": "markdown",
   "id": "31f92faa",
   "metadata": {},
   "source": [
    "The up and down regulated gene lists resulted in no new conclusions. We then moved on to targeting foreign nucleic acids in the infected samples."
   ]
  },
  {
   "cell_type": "markdown",
   "id": "3f11da33",
   "metadata": {},
   "source": [
    "### Foreign RNA Detection Plan"
   ]
  },
  {
   "cell_type": "markdown",
   "id": "1552ed11",
   "metadata": {},
   "source": [
    "1. Map to mouse genome\n",
    "2. Map unmapped reads to mouse rRNA\n",
    "3. Assemble non-mouse contigs\n",
    "4. Map to mouse genome to remove mouse contigs\n",
    "5. Compare infected and non-infected\n",
    "6. Phylogenetic Analysis"
   ]
  },
  {
   "cell_type": "markdown",
   "id": "7b6a6644",
   "metadata": {},
   "source": [
    "#### Map to mouse genome and save unmapped reads using STAR"
   ]
  },
  {
   "cell_type": "code",
   "execution_count": null,
   "id": "c578045d",
   "metadata": {},
   "outputs": [],
   "source": [
    "STAR --genomeDir /mnt/home/sunz/STAR_index/mm9_STAR_index \n",
    "--readFilesIn trimmed_forward_read.fastq \n",
    "                      trimmed_reverse_read.fastq\n",
    "   \t--runThreadN 1 --outReadsUnmapped Fastx --outFileNamePrefix X_sample."
   ]
  },
  {
   "cell_type": "markdown",
   "id": "a26f4d99",
   "metadata": {},
   "source": [
    "#### Map previous unmapped reads to mouse rRNA and extract remaining unmapped with Bowtie"
   ]
  },
  {
   "cell_type": "code",
   "execution_count": null,
   "id": "990fd726",
   "metadata": {},
   "outputs": [],
   "source": [
    "bowtie2 -x mouse_rRNA -1 X_sample.mate1 -2 X_sample.mate2 -U mouse_rRNA.fa \n",
    "\t-S X_mappedreads --un-conc X_unmappedreads.fq\n"
   ]
  },
  {
   "cell_type": "markdown",
   "id": "3141a69c",
   "metadata": {},
   "source": [
    "#### Assemble contigs with unmapped reads using Trinity"
   ]
  },
  {
   "cell_type": "code",
   "execution_count": null,
   "id": "22569f8e",
   "metadata": {},
   "outputs": [],
   "source": [
    "Trinity --seqType fq --left 4_unmappedreads.1.fq --right 4_unmappedreads.2.fq --max_memory 8G --SS_lib_type RF"
   ]
  },
  {
   "cell_type": "markdown",
   "id": "ceb77640",
   "metadata": {},
   "source": [
    "#### Phylogenetic analysis with MG-RAST webtool"
   ]
  },
  {
   "attachments": {
    "pic.PNG": {
     "image/png": "[encoded data removed]"
    }
   },
   "cell_type": "markdown",
   "id": "9a99ad33",
   "metadata": {},
   "source": [
    "![pic.PNG](attachment:pic.PNG)"
   ]
  },
  {
   "cell_type": "markdown",
   "id": "be639769",
   "metadata": {},
   "source": [
    "## Conclusions"
   ]
  },
  {
   "cell_type": "markdown",
   "id": "27dcffd7",
   "metadata": {},
   "source": [
    "After completion of the differential expression analysis and the foreign RNA detection we did not find any genes of interest or a target genus that may be carrying the infection."
   ]
  }
 ],
 "metadata": {
  "kernelspec": {
   "display_name": "Python 3 (ipykernel)",
   "language": "python",
   "name": "python3"
  },
  "language_info": {
   "codemirror_mode": {
    "name": "ipython",
    "version": 3
   },
   "file_extension": ".py",
   "mimetype": "text/x-python",
   "name": "python",
   "nbconvert_exporter": "python",
   "pygments_lexer": "ipython3",
   "version": "3.9.7"
  }
 },
 "nbformat": 4,
 "nbformat_minor": 5
}
